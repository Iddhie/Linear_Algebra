{
  "nbformat": 4,
  "nbformat_minor": 0,
  "metadata": {
    "colab": {
      "provenance": [],
      "authorship_tag": "ABX9TyMd+YUr/7vjRFP9gr5sZuxy",
      "include_colab_link": true
    },
    "kernelspec": {
      "name": "python3",
      "display_name": "Python 3"
    },
    "language_info": {
      "name": "python"
    }
  },
  "cells": [
    {
      "cell_type": "markdown",
      "metadata": {
        "id": "view-in-github",
        "colab_type": "text"
      },
      "source": [
        "<a href=\"https://colab.research.google.com/github/Iddhie/Linear_Algebra/blob/main/Exercise8.ipynb\" target=\"_parent\"><img src=\"https://colab.research.google.com/assets/colab-badge.svg\" alt=\"Open In Colab\"/></a>"
      ]
    },
    {
      "cell_type": "markdown",
      "source": [
        "## Gauss-Jordan Elimination (1)\n",
        "Algorithm Steps\n",
        "\n",
        "1. Make the top-left entry (the pivot) equal to 1 by scaling the row.\n",
        "2. Make all other entries in the pivot column zero by performing row operations.\n",
        "3. Move to the next column and repeat steps 2-3 for each column.\n",
        "4. Continue this process for each row and column until the matrix is in reduced row-echelon form."
      ],
      "metadata": {
        "id": "OhiSixFeUAwD"
      }
    },
    {
      "cell_type": "code",
      "source": [
        "import numpy as np\n",
        "\n",
        "def gauss_jordan_elimination(matrix):\n",
        "    matrix = np.array(matrix, dtype=float)\n",
        "    rows, cols = matrix.shape\n",
        "    for i in range(rows):\n",
        "        pivot = matrix[i, i]\n",
        "        if pivot == 0:\n",
        "            pivot_row = i\n",
        "            for j in range(i + 1, rows):\n",
        "                if matrix[j, i] != 0:\n",
        "                    pivot_row = j\n",
        "                    break\n",
        "            if pivot_row != i:\n",
        "                matrix[i], matrix[pivot_row] = matrix[pivot_row].copy(), matrix[i].copy()\n",
        "                pivot = matrix[i, i]\n",
        "        if pivot == 0:\n",
        "            continue\n",
        "        matrix[i] = matrix[i] / pivot\n",
        "        for j in range(rows):\n",
        "            if j != i:\n",
        "                matrix[j] -= matrix[j, i] * matrix[i]\n",
        "    return matrix\n",
        "\n",
        "matrix1 = [\n",
        "    [4, 2, 1, 8],\n",
        "    [2, 1, 3, 5],\n",
        "    [1, 3, 2, 9]\n",
        "]\n",
        "\n",
        "matrix2 = [\n",
        "    [3, 2, 1, 4],\n",
        "    [1, 2, 1, 3],\n",
        "    [2, 1, 2, 1]\n",
        "]\n",
        "\n",
        "rref_matrix1 = gauss_jordan_elimination(matrix1)\n",
        "rref_matrix2 = gauss_jordan_elimination(matrix2)\n",
        "\n",
        "print(\"Reduced Row Echelon Form of Matrix 1:\")\n",
        "for row in rref_matrix1:\n",
        "    print(row)\n",
        "\n",
        "print(\"Reduced Row Echelon Form of Matrix 2:\")\n",
        "for row in rref_matrix2:\n",
        "    print(row)\n"
      ],
      "metadata": {
        "colab": {
          "base_uri": "https://localhost:8080/"
        },
        "id": "rPqcq72KT_hA",
        "outputId": "b1f2a063-eefb-4600-d3dc-8c0aeb1e848b"
      },
      "execution_count": 20,
      "outputs": [
        {
          "output_type": "stream",
          "name": "stdout",
          "text": [
            "Reduced Row Echelon Form of Matrix 1:\n",
            "[1.   0.   0.   0.64]\n",
            "[0.   1.   0.   2.52]\n",
            "[0.  0.  1.  0.4]\n",
            "Reduced Row Echelon Form of Matrix 2:\n",
            "[1.  0.  0.  0.5]\n",
            "[0.         1.         0.         1.66666667]\n",
            "[ 0.          0.          1.         -0.83333333]\n"
          ]
        }
      ]
    },
    {
      "cell_type": "markdown",
      "source": [
        "## Gauss-Jordan Elimination (2)\n",
        "$$\n",
        "\\left[\\begin{array}{ccc|c}\n",
        "1 & 2 & 3 & 4 \\\\\n",
        "2 & 3 & 4 & 5 \\\\\n",
        "3 & 4 & 5 & 6\n",
        "\\end{array}\\right]\n",
        "$$\n",
        "\n",
        "$R2=R2-2R1, R3=R3-3R1$\n",
        "\n",
        "$$\n",
        "\\left[\\begin{array}{ccc|c}\n",
        "1 & 2 & 3 & 4 \\\\\n",
        "0 & -1 & -2 & -3 \\\\\n",
        "0 & -2 & -4 & -6\n",
        "\\end{array}\\right]\n",
        "$$\n",
        "\n",
        "$R2=-R2$\n",
        "\n",
        "$$\n",
        "\\left[\\begin{array}{ccc|c}\n",
        "1 & 2 & 3 & 4 \\\\\n",
        "0 & 1 & 2 & 3 \\\\\n",
        "0 & -2 & -4 & -6\n",
        "\\end{array}\\right]\n",
        "$$\n",
        "\n",
        "$R1=R1-2R2, R3=R3+2R2$\n",
        "\n",
        "$$\n",
        "\\left[\\begin{array}{ccc|c}\n",
        "1 & 0 & -1 & -2 \\\\\n",
        "0 & 1 & 2 & 3 \\\\\n",
        "0 & 0 & 0 & 0\n",
        "\\end{array}\\right]\n",
        "$$"
      ],
      "metadata": {
        "id": "QuRv0c_3MMAw"
      }
    },
    {
      "cell_type": "markdown",
      "source": [
        "## Gauss-Jordan Elimination (3)\n",
        "\n",
        "$$\n",
        "\\left[\\begin{array}{ccc|c}\n",
        "3 & 2 & 1 & 4 \\\\\n",
        "1 & 2 & 1 & 3 \\\\\n",
        "2 & 1 & 2 & 2\n",
        "\\end{array}\\right]\n",
        "$$\n",
        "\n",
        "$R1=R1/3$\n",
        "\n",
        "$$\n",
        "\\left[\\begin{array}{ccc|c}\n",
        "1 & \\frac{2}{3} & \\frac{1}{3} & \\frac{4}{3} \\\\\n",
        "1 & 2 & 1 & 3 \\\\\n",
        "2 & 1 & 2 & 2\n",
        "\\end{array}\\right]\n",
        "$$\n",
        "\n",
        "$R2=R2-R1, R3=R3-2R1$\n",
        "\n",
        "$$\n",
        "\\left[\\begin{array}{ccc|c}\n",
        "1 & \\frac{2}{3} & \\frac{1}{3} & \\frac{4}{3} \\\\\n",
        "0 & \\frac{4}{3} & \\frac{2}{3} & \\frac{5}{3} \\\\\n",
        "0 & \\frac{-1}{3} & \\frac{4}{3} & \\frac{-2}{3}\n",
        "\\end{array}\\right]\n",
        "$$\n",
        "\n",
        "$R2=3R2/4$\n",
        "\n",
        "$$\n",
        "\\left[\\begin{array}{ccc|c}\n",
        "1 & \\frac{2}{3} & \\frac{1}{3} & \\frac{4}{3} \\\\\n",
        "0 & 1 & \\frac{1}{2} & \\frac{5}{4} \\\\\n",
        "0 & \\frac{-1}{3} & \\frac{4}{3} & \\frac{-2}{3}\n",
        "\\end{array}\\right]\n",
        "$$\n",
        "\n",
        "$R1=R1-2R2/3, R3=R3/3,R3=2R3/3$\n",
        "\n",
        "$$\n",
        "\\left[\\begin{array}{ccc|c}\n",
        "1 & 0 & 0 & \\frac{1}{2} \\\\\n",
        "0 & 1 & \\frac{1}{2} & \\frac{5}{4} \\\\\n",
        "0 & 0 & 1 & \\frac{-1}{6}\n",
        "\\end{array}\\right]\n",
        "$$\n",
        "\n",
        "$R2=R2-R3/2$\n",
        "\n",
        "$$\n",
        "\\left[\\begin{array}{ccc|c}\n",
        "1 & 0 & 0 & \\frac{1}{2} \\\\\n",
        "0 & 1 & 0 & \\frac{4}{3} \\\\\n",
        "0 & 0 & 1 & \\frac{-1}{6}\n",
        "\\end{array}\\right]\n",
        "$$\n",
        "\n",
        "\n"
      ],
      "metadata": {
        "id": "uUJ6mmFpOQCc"
      }
    },
    {
      "cell_type": "markdown",
      "source": [
        "## Gauss-Jordan Elimination (4)\n",
        "\n",
        "$$\n",
        "\\left[\\begin{array}{ccc|c}\n",
        "4 & 2 & 1 & 8 \\\\\n",
        "2 & 1 & 3 & 5 \\\\\n",
        "1 & 3 & 2 & 9\n",
        "\\end{array}\\right]\n",
        "$$\n",
        "\n",
        "$$\n",
        "\\left[\\begin{array}{ccc|c}\n",
        "1 & \\frac{1}{2} & \\frac{1}{4} & 2 \\\\\n",
        "2 & 1 & 3 & 5 \\\\\n",
        "1 & 3 & 2 & 9\n",
        "\\end{array}\\right]\n",
        "$$\n",
        "\n",
        "$R2=R2-2R1,R3=R3-R1$\n",
        "\n",
        "$$\n",
        "\\left[\\begin{array}{ccc|c}\n",
        "1 & \\frac{1}{2} & \\frac{1}{4} & 2 \\\\\n",
        "0 & 0 & \\frac{5}{2} & 1 \\\\\n",
        "0 & \\frac{5}{2} & \\frac{7}{4} & 7\n",
        "\\end{array}\\right]\n",
        "$$\n",
        "\n",
        "$Swap \\space R2 \\space and \\space R3, R2=2R2/5$\n",
        "\n",
        "$$\n",
        "\\left[\\begin{array}{ccc|c}\n",
        "1 & \\frac{1}{2} & \\frac{1}{4} & 2 \\\\\n",
        "0 & 1 & \\frac{7}{10} & \\frac{14}{5} \\\\\n",
        "0 & 0 & \\frac{5}{2} & 1\n",
        "\\end{array}\\right]\n",
        "$$\n",
        "\n",
        "$R1=R1-R2/2, R3=2R3/5$\n",
        "\n",
        "$$\n",
        "\\left[\\begin{array}{ccc|c}\n",
        "1 & 0 & \\frac{-1}{10} & \\frac{3}{5} \\\\\n",
        "0 & 1 & \\frac{7}{10} & \\frac{14}{5} \\\\\n",
        "0 & 0 & 1 & \\frac{2}{5}\n",
        "\\end{array}\\right]\n",
        "$$\n",
        "\n",
        "$R1=R1+R3/10, R2=R2-7R3/10$\n",
        "$$\n",
        "\\left[\\begin{array}{ccc|c}\n",
        "1 & 0 & 0 & \\frac{16}{25} \\\\\n",
        "0 & 1 & 0 & \\frac{63}{25} \\\\\n",
        "0 & 0 & 1 & \\frac{2}{5}\n",
        "\\end{array}\\right]\n",
        "$$\n"
      ],
      "metadata": {
        "id": "A8WVc0KFRLA3"
      }
    },
    {
      "cell_type": "code",
      "source": [],
      "metadata": {
        "id": "uWHMwNzOT8sU"
      },
      "execution_count": null,
      "outputs": []
    }
  ]
}